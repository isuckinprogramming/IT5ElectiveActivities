{
  "nbformat": 4,
  "nbformat_minor": 0,
  "metadata": {
    "colab": {
      "provenance": [],
      "authorship_tag": "ABX9TyOvxLjVGvObcY+z+a6H0PQz",
      "include_colab_link": true
    },
    "kernelspec": {
      "name": "python3",
      "display_name": "Python 3"
    },
    "language_info": {
      "name": "python"
    }
  },
  "cells": [
    {
      "cell_type": "markdown",
      "metadata": {
        "id": "view-in-github",
        "colab_type": "text"
      },
      "source": [
        "<a href=\"https://colab.research.google.com/github/isuckinprogramming/IT5ElectiveActivities/blob/main/activity_3.ipynb\" target=\"_parent\"><img src=\"https://colab.research.google.com/assets/colab-badge.svg\" alt=\"Open In Colab\"/></a>"
      ]
    },
    {
      "cell_type": "code",
      "execution_count": 1,
      "metadata": {
        "colab": {
          "base_uri": "https://localhost:8080/"
        },
        "id": "QsvIVGNDdASU",
        "outputId": "54fa0c29-83a3-4492-aa62-afbd459471bd"
      },
      "outputs": [
        {
          "output_type": "stream",
          "name": "stdout",
          "text": [
            "something for first commit\n"
          ]
        }
      ],
      "source": [
        "\n",
        "# testing purposes\n",
        "print(\"something for first commit\")\n",
        "\n",
        "print(\"additional content: still don't know how to resolve a merge conflict\")\n"
      ]
    }
  ]
}