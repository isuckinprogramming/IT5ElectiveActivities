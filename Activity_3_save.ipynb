{
  "nbformat": 4,
  "nbformat_minor": 0,
  "metadata": {
    "colab": {
      "provenance": [],
      "authorship_tag": "ABX9TyPW1plzHC9HT5rT1Gr15vO2",
      "include_colab_link": true
    },
    "kernelspec": {
      "name": "python3",
      "display_name": "Python 3"
    },
    "language_info": {
      "name": "python"
    }
  },
  "cells": [
    {
      "cell_type": "markdown",
      "metadata": {
        "id": "view-in-github",
        "colab_type": "text"
      },
      "source": [
        "<a href=\"https://colab.research.google.com/github/isuckinprogramming/IT5ElectiveActivities/blob/main/Activity_3_save.ipynb\" target=\"_parent\"><img src=\"https://colab.research.google.com/assets/colab-badge.svg\" alt=\"Open In Colab\"/></a>"
      ]
    },
    {
      "cell_type": "code",
      "execution_count": 13,
      "metadata": {
        "colab": {
          "base_uri": "https://localhost:8080/"
        },
        "id": "_D2FOdh1i-w3",
        "outputId": "d6c63980-57a8-4424-ca1c-4ab03571e92e"
      },
      "outputs": [
        {
          "output_type": "stream",
          "name": "stdout",
          "text": [
            "Enter the number of pages in the book: 1000\n",
            "Are you a 'fast', 'average', or 'slow' reader?: slow\n",
            "It will take you approximately 40.0 hours to read this book.\n"
          ]
        }
      ],
      "source": [
        "\n",
        "def program_start():\n",
        "\n",
        "  #Initialization\n",
        "  # CONSTANTS - do not change\n",
        "  AVG_SPEED = 250 #average reading speed in words per minute\n",
        "  WORDS_PER_PAGE = 300 # the average number of words on a page\n",
        "\n",
        "  #User Input\n",
        "  #print message then ask for input then convert that input into an integer\n",
        "  num_pages = int(input(\"Enter the number of pages in the book: \"))\n",
        "  reader_type = input(\"Are you a 'fast', 'average', or 'slow' reader?: \")\n",
        "\n",
        "  #Calculate Total Words in the Book\n",
        "  total_words = num_pages * WORDS_PER_PAGE\n",
        "\n",
        "\n",
        "  #step4\n",
        "  reader_type = reader_type.lower()\n",
        "  reading_speed = -1\n",
        "\n",
        "  if reader_type == \"average\":\n",
        "    # content\n",
        "    reading_speed = AVG_SPEED\n",
        "  elif reader_type == \"slow\":\n",
        "    # content\n",
        "    reading_speed = AVG_SPEED * 0.5\n",
        "  elif reader_type == \"fast\":\n",
        "    # content\n",
        "    reading_speed = AVG_SPEED * 1.5\n",
        "  else:\n",
        "    # content\n",
        "    print(\"Your input is invalid!\")\n",
        "    # return nothing to stop function\n",
        "    return\n",
        "  # step 5\n",
        "  reading_time_minutes = total_words / reading_speed\n",
        "  reading_time_hours = reading_time_minutes / 60\n",
        "  reading_time_hours = round(reading_time_hours, 2)\n",
        "  # step 6\n",
        "  # \" %s \" % (string)\n",
        "\n",
        "  # alterntive formatted string\n",
        "  # message = f\"It will take you approximately {reading_time_hours} hours to read this book.\"\n",
        "\n",
        "  # formatted string\n",
        "  message = \"It will take you approximately %s hours to read this book.\" % (reading_time_hours)\n",
        "  print(message)\n",
        "\n",
        "\n",
        "program_start()\n",
        "\n"
      ]
    }
  ]
}